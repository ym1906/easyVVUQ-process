{
   "cells": [
      {
         "attachments": {},
         "cell_type": "markdown",
         "metadata": {},
         "source": [
            "# Screened infeasibility analysis\n",
            "Once a parameter screening analysis has been performed and detailed SA/UQ evaluated on the most influential uncertain parameters, this notebook analyses the results using a pre-existing database, created in the `feas_screened_eval.ipynb` notebook. This is capable of running locally, as there are only 3 uncertain parameters."
         ]
      },
      {
         "cell_type": "code",
         "execution_count": 1,
         "metadata": {},
         "outputs": [],
         "source": [
            "import easyvvuq as uq\n",
            "import matplotlib.pyplot as plt\n",
            "import seaborn as sns\n",
            "import numpy as np\n",
            "import pandas as pd\n",
            "from pathlib import Path"
         ]
      },
      {
         "cell_type": "code",
         "execution_count": 2,
         "metadata": {},
         "outputs": [
            {
               "name": "stdout",
               "output_type": "stream",
               "text": [
                  "Reading in campaign database.\n",
                  "sqlite:////home/graeme/easyVVUQ-process/examples-3/campaigns/example_clusterb261dpq1/campaign.db\n"
               ]
            },
            {
               "ename": "RuntimeError",
               "evalue": "Campaign directory (/rds/project/rds-mOlK9qn0PlQ/ir-turk1/easyVVUQ-process/examples-3/campaigns/example_clusterb261dpq1) does not exist.",
               "output_type": "error",
               "traceback": [
                  "\u001b[0;31m---------------------------------------------------------------------------\u001b[0m",
                  "\u001b[0;31mRuntimeError\u001b[0m                              Traceback (most recent call last)",
                  "Cell \u001b[0;32mIn[2], line 14\u001b[0m\n\u001b[1;32m     12\u001b[0m db_location_prefixed \u001b[38;5;241m=\u001b[39m \u001b[38;5;124mf\u001b[39m\u001b[38;5;124m\"\u001b[39m\u001b[38;5;124msqlite:///\u001b[39m\u001b[38;5;132;01m{\u001b[39;00mdb_location\u001b[38;5;132;01m}\u001b[39;00m\u001b[38;5;124m\"\u001b[39m\n\u001b[1;32m     13\u001b[0m \u001b[38;5;28mprint\u001b[39m(db_location_prefixed)\n\u001b[0;32m---> 14\u001b[0m campaign \u001b[38;5;241m=\u001b[39m \u001b[43muq\u001b[49m\u001b[38;5;241;43m.\u001b[39;49m\u001b[43mCampaign\u001b[49m\u001b[43m(\u001b[49m\n\u001b[1;32m     15\u001b[0m \u001b[43m    \u001b[49m\u001b[43mdb_location\u001b[49m\u001b[38;5;241;43m=\u001b[39;49m\u001b[43mdb_location_prefixed\u001b[49m\u001b[43m,\u001b[49m\u001b[43m \u001b[49m\u001b[43mname\u001b[49m\u001b[38;5;241;43m=\u001b[39;49m\u001b[38;5;124;43m\"\u001b[39;49m\u001b[38;5;124;43mexample_cluster\u001b[39;49m\u001b[38;5;124;43m\"\u001b[39;49m\u001b[43m,\u001b[49m\u001b[43m \u001b[49m\u001b[43mwork_dir\u001b[49m\u001b[38;5;241;43m=\u001b[39;49m\u001b[38;5;124;43m\"\u001b[39;49m\u001b[38;5;124;43mcampaigns\u001b[39;49m\u001b[38;5;124;43m\"\u001b[39;49m\n\u001b[1;32m     16\u001b[0m \u001b[43m)\u001b[49m\n\u001b[1;32m     18\u001b[0m samples \u001b[38;5;241m=\u001b[39m campaign\u001b[38;5;241m.\u001b[39mget_collation_result()\n\u001b[1;32m     19\u001b[0m \u001b[38;5;28mprint\u001b[39m(samples)\n",
                  "File \u001b[0;32m~/process/env/lib/python3.10/site-packages/easyvvuq/campaign.py:172\u001b[0m, in \u001b[0;36mCampaign.__init__\u001b[0;34m(self, name, params, actions, db_location, work_dir, change_to_state, verify_all_runs)\u001b[0m\n\u001b[1;32m    169\u001b[0m \u001b[38;5;28mself\u001b[39m\u001b[38;5;241m.\u001b[39m_active_sampler \u001b[38;5;241m=\u001b[39m \u001b[38;5;28;01mNone\u001b[39;00m\n\u001b[1;32m    170\u001b[0m \u001b[38;5;28mself\u001b[39m\u001b[38;5;241m.\u001b[39m_active_sampler_id \u001b[38;5;241m=\u001b[39m \u001b[38;5;28;01mNone\u001b[39;00m\n\u001b[0;32m--> 172\u001b[0m \u001b[38;5;28;43mself\u001b[39;49m\u001b[38;5;241;43m.\u001b[39;49m\u001b[43minit_db\u001b[49m\u001b[43m(\u001b[49m\u001b[43mname\u001b[49m\u001b[43m,\u001b[49m\u001b[43m \u001b[49m\u001b[38;5;28;43mself\u001b[39;49m\u001b[38;5;241;43m.\u001b[39;49m\u001b[43mwork_dir\u001b[49m\u001b[43m)\u001b[49m\n\u001b[1;32m    173\u001b[0m \u001b[38;5;28mself\u001b[39m\u001b[38;5;241m.\u001b[39m_state_dir \u001b[38;5;241m=\u001b[39m \u001b[38;5;28;01mNone\u001b[39;00m\n\u001b[1;32m    175\u001b[0m \u001b[38;5;66;03m# here we assume that the user wants to add an app\u001b[39;00m\n",
                  "File \u001b[0;32m~/process/env/lib/python3.10/site-packages/easyvvuq/campaign.py:210\u001b[0m, in \u001b[0;36mCampaign.init_db\u001b[0;34m(self, name, work_dir)\u001b[0m\n\u001b[1;32m    208\u001b[0m \u001b[38;5;28;01mif\u001b[39;00m \u001b[38;5;129;01mnot\u001b[39;00m os\u001b[38;5;241m.\u001b[39mpath\u001b[38;5;241m.\u001b[39mexists(\u001b[38;5;28mself\u001b[39m\u001b[38;5;241m.\u001b[39m_campaign_dir):\n\u001b[1;32m    209\u001b[0m     message \u001b[38;5;241m=\u001b[39m (\u001b[38;5;124mf\u001b[39m\u001b[38;5;124m\"\u001b[39m\u001b[38;5;124mCampaign directory (\u001b[39m\u001b[38;5;132;01m{\u001b[39;00m\u001b[38;5;28mself\u001b[39m\u001b[38;5;241m.\u001b[39mcampaign_dir\u001b[38;5;132;01m}\u001b[39;00m\u001b[38;5;124m) does not exist.\u001b[39m\u001b[38;5;124m\"\u001b[39m)\n\u001b[0;32m--> 210\u001b[0m     \u001b[38;5;28;01mraise\u001b[39;00m \u001b[38;5;167;01mRuntimeError\u001b[39;00m(message)\n\u001b[1;32m    211\u001b[0m \u001b[38;5;28mself\u001b[39m\u001b[38;5;241m.\u001b[39m_active_sampler_id \u001b[38;5;241m=\u001b[39m \u001b[38;5;28mself\u001b[39m\u001b[38;5;241m.\u001b[39mcampaign_db\u001b[38;5;241m.\u001b[39mget_sampler_id(\u001b[38;5;28mself\u001b[39m\u001b[38;5;241m.\u001b[39mcampaign_id)\n\u001b[1;32m    212\u001b[0m \u001b[38;5;28mself\u001b[39m\u001b[38;5;241m.\u001b[39m_active_sampler \u001b[38;5;241m=\u001b[39m \u001b[38;5;28mself\u001b[39m\u001b[38;5;241m.\u001b[39mcampaign_db\u001b[38;5;241m.\u001b[39mresurrect_sampler(\u001b[38;5;28mself\u001b[39m\u001b[38;5;241m.\u001b[39m_active_sampler_id)\n",
                  "\u001b[0;31mRuntimeError\u001b[0m: Campaign directory (/rds/project/rds-mOlK9qn0PlQ/ir-turk1/easyVVUQ-process/examples-3/campaigns/example_clusterb261dpq1) does not exist."
               ]
            }
         ],
         "source": [
            "print(\"Reading in campaign database.\")\n",
            "\n",
            "# Find DB\n",
            "db_count = 0\n",
            "for db_path in Path.cwd().glob(\"campaigns/*/\"):\n",
            "    if db_count > 0:\n",
            "        raise RuntimeError(\"More than one database in the campaigns dir\")\n",
            "\n",
            "    db_location = str(db_path.resolve())\n",
            "    db_count += 1\n",
            "# /// prefix is required before absolute path\n",
            "db_location_prefixed = f\"sqlite:///{db_location}\"\n",
            "print(db_location_prefixed)\n",
            "campaign = uq.Campaign(\n",
            "    db_location=db_location_prefixed, name=\"example_cluster\", work_dir=\"campaigns\"\n",
            ")\n",
            "\n",
            "samples = campaign.get_collation_result()\n",
            "print(samples)\n",
            "sample_count = samples.shape[0]\n",
            "print(f\"Campaign read in. Number of samples = {sample_count}\")"
         ]
      },
      {
         "cell_type": "code",
         "execution_count": null,
         "metadata": {},
         "outputs": [],
         "source": [
            "# Drop strange multi-index of 0\n",
            "samples.columns = samples.columns.droplevel(1)\n",
            "samples"
         ]
      },
      {
         "attachments": {},
         "cell_type": "markdown",
         "metadata": {},
         "source": [
            "## Analysis\n",
            "\n",
            "Check out the QOIs from the samples."
         ]
      },
      {
         "cell_type": "code",
         "execution_count": null,
         "metadata": {},
         "outputs": [],
         "source": [
            "qois = [\n",
            "    \"obj_func\",\n",
            "    \"eq_1\",\n",
            "    \"eq_2\",\n",
            "    \"eq_11\",\n",
            "    \"ineq_5\",\n",
            "    \"ineq_8\",\n",
            "    \"ineq_9\",\n",
            "    \"ineq_13\",\n",
            "    \"ineq_15\",\n",
            "    \"ineq_30\",\n",
            "    \"ineq_16\",\n",
            "    \"ineq_24\",\n",
            "    \"ineq_25\",\n",
            "    \"ineq_26\",\n",
            "    \"ineq_27\",\n",
            "    \"ineq_33\",\n",
            "    \"ineq_34\",\n",
            "    \"ineq_35\",\n",
            "    \"ineq_36\",\n",
            "    \"ineq_60\",\n",
            "    \"ineq_62\",\n",
            "    \"ineq_65\",\n",
            "    \"ineq_72\",\n",
            "    \"ineq_79\",\n",
            "    \"ineq_81\",\n",
            "    \"ineq_68\",\n",
            "    \"ineq_31\",\n",
            "    \"ineq_32\",\n",
            "    \"rms_vio_constr_res\",\n",
            "]\n",
            "samples[qois].describe()"
         ]
      },
      {
         "attachments": {},
         "cell_type": "markdown",
         "metadata": {},
         "source": [
            "### Most violated constraints\n",
            "\n",
            "Find the most violated constraints (by mean)."
         ]
      },
      {
         "cell_type": "code",
         "execution_count": null,
         "metadata": {},
         "outputs": [],
         "source": [
            "print(\"Plotting violated constraint means.\")\n",
            "# Get absolute values of violated constraint residuals\n",
            "# Abs values before mean: be fair to eq constraints (either side of 0)\n",
            "vio_means_series = samples[qois].abs().mean().sort_values(ascending=False)\n",
            "vio_means = pd.DataFrame(vio_means_series, columns=[\"mean\"])\n",
            "vio_means[\"variable\"] = vio_means.index\n",
            "vio_means.reset_index(drop=True)\n",
            "\n",
            "# Exclude objf and vio-constr_res\n",
            "filter_qois = [\"objf\", \"vio_constr_res\"]\n",
            "constrs_mask = ~vio_means[\"variable\"].isin(filter_qois)\n",
            "vio_means_filt = vio_means[constrs_mask]\n",
            "\n",
            "# Plot\n",
            "fig, ax = plt.subplots()\n",
            "sns.barplot(data=vio_means_filt, x=\"mean\", y=\"variable\", ax=ax)\n",
            "ax.set_title(\"Mean violated constraint residuals under uncertainty\")\n",
            "ax.set_xlabel(\"Mean violated residual\")\n",
            "ax.set_ylabel(\"Constraint\")\n",
            "fig.savefig(\"mean_vio_constr_res.png\")"
         ]
      },
      {
         "attachments": {},
         "cell_type": "markdown",
         "metadata": {},
         "source": [
            "Most violated by frequency. Tricky to set a threshold: probably not the best."
         ]
      },
      {
         "cell_type": "code",
         "execution_count": null,
         "metadata": {},
         "outputs": [],
         "source": [
            "print(\"Plotting constraint violation freqencies.\")\n",
            "constr_tol = 1e-3\n",
            "vio_counts = {}\n",
            "for qoi in qois:\n",
            "    # Count rows (samples) where each constraint is violated\n",
            "    vio_count = samples[samples[qoi].abs() > constr_tol].shape[0]\n",
            "    vio_counts[qoi] = vio_count\n",
            "\n",
            "vio_counts\n",
            "vio_counts_df = pd.DataFrame(data=vio_counts, index=[0])\n",
            "\n",
            "vio_counts_df_melt = vio_counts_df.melt()\n",
            "vio_counts_df_melt = vio_counts_df_melt.sort_values(by=\"value\", ascending=False)\n",
            "vio_counts_df_melt.reset_index(drop=True)\n",
            "vio_counts_df_melt_filt = vio_counts_df_melt[\n",
            "    ~vio_counts_df_melt[\"variable\"].isin(filter_qois)\n",
            "]\n",
            "\n",
            "# # Plot\n",
            "fig, ax = plt.subplots()\n",
            "sns.barplot(data=vio_counts_df_melt_filt, x=\"value\", y=\"variable\", ax=ax)\n",
            "ax.set_title(\"Constraint violation frequency under uncertainty\")\n",
            "ax.set_xlabel(\"Violation frequency\")\n",
            "ax.set_ylabel(\"Constraint\")\n",
            "fig.savefig(\"vio_constr_res_freq.png\")"
         ]
      },
      {
         "attachments": {},
         "cell_type": "markdown",
         "metadata": {},
         "source": [
            "### Distribution of violated constraint residuals"
         ]
      },
      {
         "cell_type": "code",
         "execution_count": null,
         "metadata": {},
         "outputs": [],
         "source": [
            "print(\"Plotting distribution of violated constraint residuals.\")\n",
            "# Analyse a single output variable, vio_constr_res\n",
            "results = campaign.analyse(qoi_cols=[\"rms_vio_constr_res\"])\n",
            "\n",
            "# Get its distribution\n",
            "dist = results.get_distribution(qoi=\"rms_vio_constr_res\")\n",
            "\n",
            "# Locations for density function to be evaluated\n",
            "# (This is taken from easyvvuq's fusion tutorial)\n",
            "x = np.linspace(dist.lower[0], dist.upper[0], num=500)\n",
            "pdf = dist.pdf(x)\n",
            "\n",
            "# Plot\n",
            "fig, ax = plt.subplots()\n",
            "sns.lineplot(x=x, y=pdf, markers=True, ax=ax)\n",
            "ax.set_title(\"Distribution for rms_vio_constr_res\")\n",
            "ax.set_xlabel(\"RMS of violated constraint residuals\")\n",
            "ax.set_ylabel(\"Probability density\")\n",
            "ax.set_xlim([0.0, None])\n",
            "fig.savefig(\"vio_constr_res_dist.png\")"
         ]
      },
      {
         "attachments": {},
         "cell_type": "markdown",
         "metadata": {},
         "source": [
            "### Distribution of individual constraint violations"
         ]
      },
      {
         "cell_type": "code",
         "execution_count": null,
         "metadata": {},
         "outputs": [],
         "source": [
            "print(\"Plotting top 3 violated constraint distributions\")\n",
            "# Take top 3 violated contraints (by mean)\n",
            "vio_means_filt = vio_means_filt.reset_index(drop=True)\n",
            "top_vio_means = vio_means_filt[0:3][\"variable\"].to_list()\n",
            "\n",
            "# Analyse a single output variable, vio_constr_res\n",
            "results = campaign.analyse(qoi_cols=top_vio_means)\n",
            "\n",
            "# Get the distributions\n",
            "dists = []\n",
            "dist_lowest = 0.0\n",
            "dist_highest = 0.0\n",
            "for qoi in top_vio_means:\n",
            "    dist = results.get_distribution(qoi=qoi)\n",
            "    if dist.lower[0] < dist_lowest:\n",
            "        dist_lowest = dist.lower[0]\n",
            "    if dist.upper[0] > dist_highest:\n",
            "        dist_highest = dist.upper[0]\n",
            "    dists.append(dist)\n",
            "\n",
            "# Locations for density function to be evaluated\n",
            "x = np.linspace(dist_lowest, dist_highest, num=500)\n",
            "\n",
            "# Flip x to make +ve\n",
            "pdfs = {\"x\": -x}\n",
            "for constr_name, dist in zip(top_vio_means, dists):\n",
            "    pdfs[constr_name] = dist.pdf(x)\n",
            "\n",
            "top_vio_means_df = pd.DataFrame(pdfs)\n",
            "top_vio_means_df\n",
            "top_vio_means_df_melt = top_vio_means_df.melt(id_vars=\"x\", value_vars=top_vio_means)\n",
            "top_vio_means_df_melt\n",
            "# Plot\n",
            "fig, ax = plt.subplots()\n",
            "sns.lineplot(\n",
            "    data=top_vio_means_df_melt, x=\"x\", y=\"value\", hue=\"variable\", markers=True, ax=ax\n",
            ")\n",
            "ax.set_title(\"Distribution of top 3 violated constraints\")\n",
            "ax.set_xlabel(\"Violated constraint value\")\n",
            "ax.set_ylabel(\"Probability density\")\n",
            "ax.set_xlim([0.0, None])\n",
            "fig.savefig(\"top_3_vio_constr_res_dist.png\")"
         ]
      },
      {
         "attachments": {},
         "cell_type": "markdown",
         "metadata": {},
         "source": [
            "### Objective function"
         ]
      },
      {
         "cell_type": "code",
         "execution_count": null,
         "metadata": {},
         "outputs": [],
         "source": [
            "print(\"Plotting objective function distribution\")\n",
            "# Analyse a single output variable, vio_constr_res\n",
            "results = campaign.analyse(qoi_cols=[\"obj_func\"])\n",
            "\n",
            "# Get its distribution\n",
            "dist = results.get_distribution(qoi=\"obj_func\")\n",
            "\n",
            "# Locations for density function to be evaluated\n",
            "x = np.linspace(dist.lower[0], dist.upper[0], num=500)\n",
            "pdf = dist.pdf(x)\n",
            "\n",
            "# Plot\n",
            "fig, ax = plt.subplots()\n",
            "sns.lineplot(x=x, y=pdf, markers=True, ax=ax)\n",
            "ax.set_title(\"Distribution for obj_func\")\n",
            "ax.set_xlabel(\"obj_func\")\n",
            "ax.set_ylabel(\"Probability density\")\n",
            "fig.savefig(\"objf_dist.png\")"
         ]
      },
      {
         "attachments": {},
         "cell_type": "markdown",
         "metadata": {},
         "source": [
            "## Sobol indices\n",
            "\n",
            "### Violated constraint residuals\n",
            "\n",
            "Sobols for violated constraint residuals."
         ]
      },
      {
         "cell_type": "code",
         "execution_count": null,
         "metadata": {},
         "outputs": [],
         "source": [
            "print(\"Plotting Sobols for violated constraint residuals.\")\n",
            "results = campaign.analyse(qoi_cols=[\"rms_vio_constr_res\"])\n",
            "fig, ax = plt.subplots()\n",
            "results.plot_sobols_treemap(\"rms_vio_constr_res\", figsize=(10, 10), ax=ax)\n",
            "fig.savefig(\"vio_constr_res_sobols_treemap.png\")"
         ]
      },
      {
         "attachments": {},
         "cell_type": "markdown",
         "metadata": {},
         "source": [
            "### Sobols for individual constraint\n",
            "\n",
            "Interesting for discussion, but not for poster. Too much information (Sobol indices for each constraint)."
         ]
      },
      {
         "cell_type": "code",
         "execution_count": null,
         "metadata": {},
         "outputs": [],
         "source": [
            "print(\"Plotting individual constraint Sobols\")\n",
            "results = campaign.analyse(qoi_cols=top_vio_means)\n",
            "for constr_name in top_vio_means:\n",
            "    fig, ax = plt.subplots()\n",
            "    try:\n",
            "        results.plot_sobols_treemap(constr_name, ax=ax)\n",
            "        fig.savefig(f\"{constr_name}_sobols_treemap.png\")\n",
            "        print(f\"Plotted {constr_name} Sobols.\")\n",
            "    except:\n",
            "        print(f\"Couldn't plot {constr_name} Sobols.\")"
         ]
      },
      {
         "attachments": {},
         "cell_type": "markdown",
         "metadata": {},
         "source": [
            "## Barplot of Sobol indices"
         ]
      },
      {
         "cell_type": "code",
         "execution_count": null,
         "metadata": {},
         "outputs": [],
         "source": [
            "print(\"Plotting barplot of Sobols for violated constraint residuals.\")\n",
            "# results.sobols_first()\n",
            "# results.sobols_second()\n",
            "# results.sobols_total()\n",
            "\n",
            "results = campaign.analyse(qoi_cols=[\"rms_vio_constr_res\"])\n",
            "sobols_first = results.sobols_first()[\"rms_vio_constr_res\"]\n",
            "sobols_first_df = pd.DataFrame(sobols_first)\n",
            "sobols_first_df_melted = sobols_first_df.melt()\n",
            "sobols_first_df_melted\n",
            "\n",
            "fig, ax = plt.subplots()\n",
            "sns.barplot(data=sobols_first_df_melted, x=\"value\", y=\"variable\", ax=ax)\n",
            "ax.set_title(\"First-order Sobol indices for violated constraint residuals\")\n",
            "ax.set_xlabel(\"First-order Sobol index\")\n",
            "ax.set_ylabel(\"Uncertain input\")\n",
            "fig.savefig(\"fo_sobols_bar.png\")"
         ]
      },
      {
         "cell_type": "code",
         "execution_count": null,
         "metadata": {},
         "outputs": [],
         "source": [
            "print(\"Plotting first and higher-order Sobols for violated constraint residuals.\")\n",
            "sobols_total = results.sobols_total()[\"rms_vio_constr_res\"]\n",
            "\n",
            "# Calculate higher-order Sobol indices\n",
            "sobols_higher = {}\n",
            "for key in sobols_first:\n",
            "    sobols_higher[key] = sobols_total[key] - sobols_first[key]\n",
            "\n",
            "# Combine first and higher-order into df\n",
            "sobols_first_and_higher = {}\n",
            "for key in sobols_first:\n",
            "    sobols_first_and_higher[key] = [sobols_first[key][0], sobols_higher[key][0]]\n",
            "\n",
            "sobols_first_and_higher_df = pd.DataFrame(\n",
            "    sobols_first_and_higher, index=[\"First-order\", \"Higher-order\"]\n",
            ")\n",
            "sobols_first_and_higher_df = sobols_first_and_higher_df.reset_index()\n",
            "sobols_first_and_higher_df\n",
            "sobols_first_and_higher_df_melted = sobols_first_and_higher_df.melt(id_vars=\"index\")\n",
            "sobols_first_and_higher_df_melted\n",
            "\n",
            "# Plot\n",
            "fig, ax = plt.subplots()\n",
            "ax = sns.barplot(\n",
            "    data=sobols_first_and_higher_df_melted,\n",
            "    x=\"value\",\n",
            "    y=\"variable\",\n",
            "    hue=\"index\",\n",
            "    orient=\"h\",\n",
            ")\n",
            "ax.set_title(\"First- and higher-order Sobol indices for violated constraint residuals\")\n",
            "ax.set_xlabel(\"Sobol index\")\n",
            "ax.set_ylabel(\"Uncertain input\")\n",
            "fig.savefig(\"fo_ho_sobols_bar.png\")"
         ]
      }
   ],
   "metadata": {
      "kernelspec": {
         "display_name": ".venv",
         "language": "python",
         "name": "python3"
      },
      "language_info": {
         "codemirror_mode": {
            "name": "ipython",
            "version": 3
         },
         "file_extension": ".py",
         "mimetype": "text/x-python",
         "name": "python",
         "nbconvert_exporter": "python",
         "pygments_lexer": "ipython3",
         "version": "3.10.12"
      },
      "orig_nbformat": 4,
      "vscode": {
         "interpreter": {
            "hash": "0d602a62c005a1edaecc467843c8abc40b106c408f7dd3fdae5e868ff234b67e"
         }
      }
   },
   "nbformat": 4,
   "nbformat_minor": 2
}
