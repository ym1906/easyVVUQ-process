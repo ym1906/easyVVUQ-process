{
 "cells": [
  {
   "cell_type": "markdown",
   "metadata": {},
   "source": [
    "# Infeasibility analysis on a cluster\n",
    "\n",
    "Perform a simple analysis on the results of a UQ evaluation on a cluster using Dask."
   ]
  },
  {
   "cell_type": "code",
   "execution_count": 1,
   "metadata": {
    "execution": {
     "iopub.execute_input": "2024-01-24T15:51:35.394558Z",
     "iopub.status.busy": "2024-01-24T15:51:35.394303Z",
     "iopub.status.idle": "2024-01-24T15:51:40.087936Z",
     "shell.execute_reply": "2024-01-24T15:51:40.087349Z"
    }
   },
   "outputs": [],
   "source": [
    "import easyvvuq as uq\n",
    "from pathlib import Path\n",
    "import matplotlib.pyplot as plt\n",
    "import seaborn as sns\n",
    "import numpy as np"
   ]
  },
  {
   "cell_type": "code",
   "execution_count": 2,
   "metadata": {
    "execution": {
     "iopub.execute_input": "2024-01-24T15:51:40.091649Z",
     "iopub.status.busy": "2024-01-24T15:51:40.091174Z",
     "iopub.status.idle": "2024-01-24T15:51:40.223832Z",
     "shell.execute_reply": "2024-01-24T15:51:40.223036Z"
    }
   },
   "outputs": [
    {
     "name": "stdout",
     "output_type": "stream",
     "text": [
      "Reading in campaign database.\n"
     ]
    },
    {
     "ename": "RuntimeError",
     "evalue": "Campaign directory (/rds/project/rds-mOlK9qn0PlQ/ir-turk1/easyVVUQ-process/examples/campaigns/example_clusterxdyq9g10) does not exist.",
     "output_type": "error",
     "traceback": [
      "\u001b[0;31m---------------------------------------------------------------------------\u001b[0m",
      "\u001b[0;31mRuntimeError\u001b[0m                              Traceback (most recent call last)",
      "Cell \u001b[0;32mIn[2], line 14\u001b[0m\n\u001b[1;32m     12\u001b[0m \u001b[38;5;66;03m# /// prefix is required before absolute path\u001b[39;00m\n\u001b[1;32m     13\u001b[0m db_location_prefixed \u001b[38;5;241m=\u001b[39m \u001b[38;5;124mf\u001b[39m\u001b[38;5;124m\"\u001b[39m\u001b[38;5;124msqlite:///\u001b[39m\u001b[38;5;132;01m{\u001b[39;00mdb_location\u001b[38;5;132;01m}\u001b[39;00m\u001b[38;5;124m\"\u001b[39m\n\u001b[0;32m---> 14\u001b[0m campaign \u001b[38;5;241m=\u001b[39m \u001b[43muq\u001b[49m\u001b[38;5;241;43m.\u001b[39;49m\u001b[43mCampaign\u001b[49m\u001b[43m(\u001b[49m\n\u001b[1;32m     15\u001b[0m \u001b[43m    \u001b[49m\u001b[43mdb_location\u001b[49m\u001b[38;5;241;43m=\u001b[39;49m\u001b[43mdb_location_prefixed\u001b[49m\u001b[43m,\u001b[49m\u001b[43m \u001b[49m\u001b[43mname\u001b[49m\u001b[38;5;241;43m=\u001b[39;49m\u001b[38;5;124;43m\"\u001b[39;49m\u001b[38;5;124;43mexample_cluster\u001b[39;49m\u001b[38;5;124;43m\"\u001b[39;49m\u001b[43m,\u001b[49m\u001b[43m \u001b[49m\u001b[43mwork_dir\u001b[49m\u001b[38;5;241;43m=\u001b[39;49m\u001b[38;5;124;43m\"\u001b[39;49m\u001b[38;5;124;43mcampaigns\u001b[39;49m\u001b[38;5;124;43m\"\u001b[39;49m\n\u001b[1;32m     16\u001b[0m \u001b[43m)\u001b[49m\n\u001b[1;32m     18\u001b[0m samples \u001b[38;5;241m=\u001b[39m campaign\u001b[38;5;241m.\u001b[39mget_collation_result()\n\u001b[1;32m     19\u001b[0m sample_count \u001b[38;5;241m=\u001b[39m samples\u001b[38;5;241m.\u001b[39mshape[\u001b[38;5;241m0\u001b[39m]\n",
      "File \u001b[0;32m~/process/env/lib/python3.10/site-packages/easyvvuq/campaign.py:172\u001b[0m, in \u001b[0;36mCampaign.__init__\u001b[0;34m(self, name, params, actions, db_location, work_dir, change_to_state, verify_all_runs)\u001b[0m\n\u001b[1;32m    169\u001b[0m \u001b[38;5;28mself\u001b[39m\u001b[38;5;241m.\u001b[39m_active_sampler \u001b[38;5;241m=\u001b[39m \u001b[38;5;28;01mNone\u001b[39;00m\n\u001b[1;32m    170\u001b[0m \u001b[38;5;28mself\u001b[39m\u001b[38;5;241m.\u001b[39m_active_sampler_id \u001b[38;5;241m=\u001b[39m \u001b[38;5;28;01mNone\u001b[39;00m\n\u001b[0;32m--> 172\u001b[0m \u001b[38;5;28;43mself\u001b[39;49m\u001b[38;5;241;43m.\u001b[39;49m\u001b[43minit_db\u001b[49m\u001b[43m(\u001b[49m\u001b[43mname\u001b[49m\u001b[43m,\u001b[49m\u001b[43m \u001b[49m\u001b[38;5;28;43mself\u001b[39;49m\u001b[38;5;241;43m.\u001b[39;49m\u001b[43mwork_dir\u001b[49m\u001b[43m)\u001b[49m\n\u001b[1;32m    173\u001b[0m \u001b[38;5;28mself\u001b[39m\u001b[38;5;241m.\u001b[39m_state_dir \u001b[38;5;241m=\u001b[39m \u001b[38;5;28;01mNone\u001b[39;00m\n\u001b[1;32m    175\u001b[0m \u001b[38;5;66;03m# here we assume that the user wants to add an app\u001b[39;00m\n",
      "File \u001b[0;32m~/process/env/lib/python3.10/site-packages/easyvvuq/campaign.py:210\u001b[0m, in \u001b[0;36mCampaign.init_db\u001b[0;34m(self, name, work_dir)\u001b[0m\n\u001b[1;32m    208\u001b[0m \u001b[38;5;28;01mif\u001b[39;00m \u001b[38;5;129;01mnot\u001b[39;00m os\u001b[38;5;241m.\u001b[39mpath\u001b[38;5;241m.\u001b[39mexists(\u001b[38;5;28mself\u001b[39m\u001b[38;5;241m.\u001b[39m_campaign_dir):\n\u001b[1;32m    209\u001b[0m     message \u001b[38;5;241m=\u001b[39m (\u001b[38;5;124mf\u001b[39m\u001b[38;5;124m\"\u001b[39m\u001b[38;5;124mCampaign directory (\u001b[39m\u001b[38;5;132;01m{\u001b[39;00m\u001b[38;5;28mself\u001b[39m\u001b[38;5;241m.\u001b[39mcampaign_dir\u001b[38;5;132;01m}\u001b[39;00m\u001b[38;5;124m) does not exist.\u001b[39m\u001b[38;5;124m\"\u001b[39m)\n\u001b[0;32m--> 210\u001b[0m     \u001b[38;5;28;01mraise\u001b[39;00m \u001b[38;5;167;01mRuntimeError\u001b[39;00m(message)\n\u001b[1;32m    211\u001b[0m \u001b[38;5;28mself\u001b[39m\u001b[38;5;241m.\u001b[39m_active_sampler_id \u001b[38;5;241m=\u001b[39m \u001b[38;5;28mself\u001b[39m\u001b[38;5;241m.\u001b[39mcampaign_db\u001b[38;5;241m.\u001b[39mget_sampler_id(\u001b[38;5;28mself\u001b[39m\u001b[38;5;241m.\u001b[39mcampaign_id)\n\u001b[1;32m    212\u001b[0m \u001b[38;5;28mself\u001b[39m\u001b[38;5;241m.\u001b[39m_active_sampler \u001b[38;5;241m=\u001b[39m \u001b[38;5;28mself\u001b[39m\u001b[38;5;241m.\u001b[39mcampaign_db\u001b[38;5;241m.\u001b[39mresurrect_sampler(\u001b[38;5;28mself\u001b[39m\u001b[38;5;241m.\u001b[39m_active_sampler_id)\n",
      "\u001b[0;31mRuntimeError\u001b[0m: Campaign directory (/rds/project/rds-mOlK9qn0PlQ/ir-turk1/easyVVUQ-process/examples/campaigns/example_clusterxdyq9g10) does not exist."
     ]
    }
   ],
   "source": [
    "print(\"Reading in campaign database.\")\n",
    "\n",
    "# Find DB\n",
    "db_count = 0\n",
    "for db_path in Path.cwd().glob(\"campaigns/*/campaign.db\"):\n",
    "    if db_count > 0:\n",
    "        raise RuntimeError(\"More than one database in the campaigns dir\")\n",
    "\n",
    "    db_location = str(db_path.resolve())\n",
    "    db_count += 1\n",
    "\n",
    "# /// prefix is required before absolute path\n",
    "db_location_prefixed = f\"sqlite:///{db_location}\"\n",
    "campaign = uq.Campaign(\n",
    "    db_location=db_location_prefixed, name=\"example_cluster\", work_dir=\"campaigns\"\n",
    ")\n",
    "\n",
    "samples = campaign.get_collation_result()\n",
    "sample_count = samples.shape[0]\n",
    "print(f\"Campaign read in. Number of samples = {sample_count}\")\n",
    "\n",
    "# # Drop strange multi-index of 0\n",
    "# samples.columns = samples.columns.droplevel(1)\n",
    "# samples\n",
    "\n",
    "# Specify the file path where you want to save the HDF file\n",
    "hdf_file_path = 'samples_dataframe.h5'\n",
    "\n",
    "# Save the DataFrame to HDF\n",
    "samples.to_hdf(hdf_file_path, key='data', mode='w')"
   ]
  }
 ],
 "metadata": {
  "kernelspec": {
   "display_name": "env",
   "language": "python",
   "name": "python3"
  },
  "language_info": {
   "codemirror_mode": {
    "name": "ipython",
    "version": 3
   },
   "file_extension": ".py",
   "mimetype": "text/x-python",
   "name": "python",
   "nbconvert_exporter": "python",
   "pygments_lexer": "ipython3",
   "version": "3.10.12"
  }
 },
 "nbformat": 4,
 "nbformat_minor": 2
}
